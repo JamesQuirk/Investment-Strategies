{
 "cells": [
  {
   "cell_type": "markdown",
   "metadata": {},
   "source": [
    "# Investment Strategies Comparison\n",
    "\n",
    "This notebook explores a comparison between two common investment strategies:\n",
    "\n",
    "- __Lump Sum Investing__: Investing a large sum of money at once.\n",
    "- __Cost Averaging__: Spreading a sum of money over time to try to reduce risk of possible adverse market changes.\n"
   ]
  },
  {
   "cell_type": "code",
   "execution_count": 1,
   "metadata": {},
   "outputs": [],
   "source": [
    "from get_data import get_data\n",
    "from strategies import lump_buy, cost_average\n",
    "import seaborn as sns\n",
    "import matplotlib.pyplot as plt\n",
    "from datetime import timedelta"
   ]
  },
  {
   "cell_type": "markdown",
   "metadata": {},
   "source": [
    "## Initial comparison of strategies"
   ]
  },
  {
   "cell_type": "code",
   "execution_count": 2,
   "metadata": {},
   "outputs": [
    {
     "name": "stdout",
     "output_type": "stream",
     "text": [
      "Filtering existing data...\n"
     ]
    }
   ],
   "source": [
    "to_invest = 10_000\n",
    "duration = 365*10 # days\n",
    "frequency = 7 # days\n",
    "\n",
    "ticker = \"AAPL\"\n",
    "\n",
    "start = \"02/06/2012\"\n",
    "end = \"02/06/2022\"\n",
    "\n",
    "fractional = True\n",
    "\n",
    "data = get_data(ticker, date_from=start, date_to=end, granularity=\"day\", save=False)"
   ]
  },
  {
   "cell_type": "code",
   "execution_count": 3,
   "metadata": {},
   "outputs": [
    {
     "data": {
      "text/html": [
       "<div>\n",
       "<style scoped>\n",
       "    .dataframe tbody tr th:only-of-type {\n",
       "        vertical-align: middle;\n",
       "    }\n",
       "\n",
       "    .dataframe tbody tr th {\n",
       "        vertical-align: top;\n",
       "    }\n",
       "\n",
       "    .dataframe thead th {\n",
       "        text-align: right;\n",
       "    }\n",
       "</style>\n",
       "<table border=\"1\" class=\"dataframe\">\n",
       "  <thead>\n",
       "    <tr style=\"text-align: right;\">\n",
       "      <th></th>\n",
       "      <th>date</th>\n",
       "      <th>cost</th>\n",
       "      <th>cum_cost</th>\n",
       "      <th>cum_quantity</th>\n",
       "      <th>current_total_value</th>\n",
       "    </tr>\n",
       "  </thead>\n",
       "  <tbody>\n",
       "    <tr>\n",
       "      <th>2512</th>\n",
       "      <td>2022-05-26</td>\n",
       "      <td>140.584991</td>\n",
       "      <td>10000.0</td>\n",
       "      <td>497.512476</td>\n",
       "      <td>69942.789062</td>\n",
       "    </tr>\n",
       "    <tr>\n",
       "      <th>2513</th>\n",
       "      <td>2022-05-27</td>\n",
       "      <td>147.514999</td>\n",
       "      <td>10000.0</td>\n",
       "      <td>497.512476</td>\n",
       "      <td>73390.554688</td>\n",
       "    </tr>\n",
       "    <tr>\n",
       "      <th>2514</th>\n",
       "      <td>2022-05-31</td>\n",
       "      <td>148.955002</td>\n",
       "      <td>10000.0</td>\n",
       "      <td>497.512476</td>\n",
       "      <td>74106.968750</td>\n",
       "    </tr>\n",
       "    <tr>\n",
       "      <th>2515</th>\n",
       "      <td>2022-06-01</td>\n",
       "      <td>149.304993</td>\n",
       "      <td>10000.0</td>\n",
       "      <td>497.512476</td>\n",
       "      <td>74281.093750</td>\n",
       "    </tr>\n",
       "    <tr>\n",
       "      <th>2516</th>\n",
       "      <td>2022-06-02</td>\n",
       "      <td>149.169998</td>\n",
       "      <td>10000.0</td>\n",
       "      <td>497.512476</td>\n",
       "      <td>74213.937500</td>\n",
       "    </tr>\n",
       "  </tbody>\n",
       "</table>\n",
       "</div>"
      ],
      "text/plain": [
       "           date        cost  cum_cost  cum_quantity  current_total_value\n",
       "2512 2022-05-26  140.584991   10000.0    497.512476         69942.789062\n",
       "2513 2022-05-27  147.514999   10000.0    497.512476         73390.554688\n",
       "2514 2022-05-31  148.955002   10000.0    497.512476         74106.968750\n",
       "2515 2022-06-01  149.304993   10000.0    497.512476         74281.093750\n",
       "2516 2022-06-02  149.169998   10000.0    497.512476         74213.937500"
      ]
     },
     "execution_count": 3,
     "metadata": {},
     "output_type": "execute_result"
    }
   ],
   "source": [
    "lump = lump_buy(data,start,end,value=to_invest, fractional_stocks=fractional)\n",
    "lump.tail()"
   ]
  },
  {
   "cell_type": "code",
   "execution_count": 4,
   "metadata": {},
   "outputs": [
    {
     "name": "stdout",
     "output_type": "stream",
     "text": [
      "19.17808219178082\n"
     ]
    },
    {
     "data": {
      "text/html": [
       "<div>\n",
       "<style scoped>\n",
       "    .dataframe tbody tr th:only-of-type {\n",
       "        vertical-align: middle;\n",
       "    }\n",
       "\n",
       "    .dataframe tbody tr th {\n",
       "        vertical-align: top;\n",
       "    }\n",
       "\n",
       "    .dataframe thead th {\n",
       "        text-align: right;\n",
       "    }\n",
       "</style>\n",
       "<table border=\"1\" class=\"dataframe\">\n",
       "  <thead>\n",
       "    <tr style=\"text-align: right;\">\n",
       "      <th></th>\n",
       "      <th>date</th>\n",
       "      <th>cost</th>\n",
       "      <th>cum_quantity</th>\n",
       "      <th>cum_cost</th>\n",
       "      <th>current_total_value</th>\n",
       "    </tr>\n",
       "  </thead>\n",
       "  <tbody>\n",
       "    <tr>\n",
       "      <th>2512</th>\n",
       "      <td>2022-05-26</td>\n",
       "      <td>140.584991</td>\n",
       "      <td>290.657786</td>\n",
       "      <td>9953.424658</td>\n",
       "      <td>40862.122406</td>\n",
       "    </tr>\n",
       "    <tr>\n",
       "      <th>2513</th>\n",
       "      <td>2022-05-27</td>\n",
       "      <td>147.514999</td>\n",
       "      <td>290.657786</td>\n",
       "      <td>9953.424658</td>\n",
       "      <td>42876.383172</td>\n",
       "    </tr>\n",
       "    <tr>\n",
       "      <th>2514</th>\n",
       "      <td>2022-05-31</td>\n",
       "      <td>148.955002</td>\n",
       "      <td>290.657786</td>\n",
       "      <td>9953.424658</td>\n",
       "      <td>43294.931094</td>\n",
       "    </tr>\n",
       "    <tr>\n",
       "      <th>2515</th>\n",
       "      <td>2022-06-01</td>\n",
       "      <td>149.304993</td>\n",
       "      <td>290.657786</td>\n",
       "      <td>9953.424658</td>\n",
       "      <td>43396.658658</td>\n",
       "    </tr>\n",
       "    <tr>\n",
       "      <th>2516</th>\n",
       "      <td>2022-06-02</td>\n",
       "      <td>149.169998</td>\n",
       "      <td>290.657786</td>\n",
       "      <td>9953.424658</td>\n",
       "      <td>43357.421453</td>\n",
       "    </tr>\n",
       "  </tbody>\n",
       "</table>\n",
       "</div>"
      ],
      "text/plain": [
       "           date        cost  cum_quantity     cum_cost  current_total_value\n",
       "2512 2022-05-26  140.584991    290.657786  9953.424658         40862.122406\n",
       "2513 2022-05-27  147.514999    290.657786  9953.424658         42876.383172\n",
       "2514 2022-05-31  148.955002    290.657786  9953.424658         43294.931094\n",
       "2515 2022-06-01  149.304993    290.657786  9953.424658         43396.658658\n",
       "2516 2022-06-02  149.169998    290.657786  9953.424658         43357.421453"
      ]
     },
     "execution_count": 4,
     "metadata": {},
     "output_type": "execute_result"
    }
   ],
   "source": [
    "sub_inv_val = to_invest/(duration/frequency)\n",
    "print(sub_inv_val)\n",
    "ca = cost_average(data,start,end,frequency,value=sub_inv_val, fractional_stocks=fractional)\n",
    "ca.tail()"
   ]
  },
  {
   "cell_type": "code",
   "execution_count": 5,
   "metadata": {},
   "outputs": [
    {
     "data": {
      "image/png": "[encoded data removed]",
      "text/plain": [
       "<Figure size 432x288 with 2 Axes>"
      ]
     },
     "metadata": {
      "needs_background": "light"
     },
     "output_type": "display_data"
    }
   ],
   "source": [
    "# Plot stock price\n",
    "ax1 = sns.lineplot(x=data[\"date\"],y=data[\"close\"],color=\"black\")\n",
    "\n",
    "# Plot cost-avg and lump on second y-axis\n",
    "ax2 = plt.twinx()\n",
    "sns.lineplot(x=ca[\"date\"],y=ca[\"current_total_value\"],ax=ax2)\n",
    "sns.lineplot(x=lump[\"date\"],y=lump[\"current_total_value\"],ax=ax2)\n",
    "\n",
    "plt.legend(\n",
    "\t[*list(ax1.lines),*list(ax2.lines)],\n",
    "\t[\"stock_price\",\"ca_value\",\"lump_value\"]\n",
    ")\n",
    "plt.grid(visible=True,axis=\"both\")"
   ]
  },
  {
   "cell_type": "markdown",
   "metadata": {},
   "source": [
    "Over a 10 year period, investing the whole amount immediately gives, as expected, better returns than spreading the investment evenly throughout the period."
   ]
  }
 ],
 "metadata": {
  "interpreter": {
   "hash": "949777d72b0d2535278d3dc13498b2535136f6dfe0678499012e853ee9abcab1"
  },
  "kernelspec": {
   "display_name": "Python 3.10.4 64-bit",
   "language": "python",
   "name": "python3"
  },
  "language_info": {
   "codemirror_mode": {
    "name": "ipython",
    "version": 3
   },
   "file_extension": ".py",
   "mimetype": "text/x-python",
   "name": "python",
   "nbconvert_exporter": "python",
   "pygments_lexer": "ipython3",
   "version": "3.10.4"
  },
  "orig_nbformat": 4
 },
 "nbformat": 4,
 "nbformat_minor": 2
}

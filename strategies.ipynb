{
 "cells": [
  {
   "cell_type": "code",
   "execution_count": 1,
   "metadata": {},
   "outputs": [],
   "source": [
    "from get_data import get_data\n",
    "from strategies import lump_buy, cost_average\n",
    "import seaborn as sns\n",
    "import matplotlib.pyplot as plt"
   ]
  },
  {
   "cell_type": "markdown",
   "metadata": {},
   "source": [
    "## Initial comparison of strategies"
   ]
  },
  {
   "cell_type": "code",
   "execution_count": 2,
   "metadata": {},
   "outputs": [
    {
     "name": "stdout",
     "output_type": "stream",
     "text": [
      "Filtering existing data...\n"
     ]
    }
   ],
   "source": [
    "to_invest = 10_000\n",
    "duration = 365*10 # days\n",
    "frequency = 7 # days\n",
    "\n",
    "ticker = \"AAPL\"\n",
    "\n",
    "start = \"02/06/2012\"\n",
    "end = \"02/06/2022\"\n",
    "\n",
    "fractional = True\n",
    "\n",
    "data = get_data(ticker, date_from=start, date_to=end, granularity=\"day\", save=False)"
   ]
  },
  {
   "cell_type": "code",
   "execution_count": 3,
   "metadata": {},
   "outputs": [
    {
     "data": {
      "text/html": [
       "<div>\n",
       "<style scoped>\n",
       "    .dataframe tbody tr th:only-of-type {\n",
       "        vertical-align: middle;\n",
       "    }\n",
       "\n",
       "    .dataframe tbody tr th {\n",
       "        vertical-align: top;\n",
       "    }\n",
       "\n",
       "    .dataframe thead th {\n",
       "        text-align: right;\n",
       "    }\n",
       "</style>\n",
       "<table border=\"1\" class=\"dataframe\">\n",
       "  <thead>\n",
       "    <tr style=\"text-align: right;\">\n",
       "      <th></th>\n",
       "      <th>index</th>\n",
       "      <th>date</th>\n",
       "      <th>current_total_value</th>\n",
       "      <th>cum_cost</th>\n",
       "      <th>cum_quantity</th>\n",
       "    </tr>\n",
       "  </thead>\n",
       "  <tbody>\n",
       "    <tr>\n",
       "      <th>2512</th>\n",
       "      <td>2512</td>\n",
       "      <td>2012-06-08</td>\n",
       "      <td>10233.832031</td>\n",
       "      <td>10000.0</td>\n",
       "      <td>497.512476</td>\n",
       "    </tr>\n",
       "    <tr>\n",
       "      <th>2513</th>\n",
       "      <td>2513</td>\n",
       "      <td>2012-06-07</td>\n",
       "      <td>10208.956055</td>\n",
       "      <td>10000.0</td>\n",
       "      <td>497.512476</td>\n",
       "    </tr>\n",
       "    <tr>\n",
       "      <th>2514</th>\n",
       "      <td>2514</td>\n",
       "      <td>2012-06-06</td>\n",
       "      <td>10121.891602</td>\n",
       "      <td>10000.0</td>\n",
       "      <td>497.512476</td>\n",
       "    </tr>\n",
       "    <tr>\n",
       "      <th>2515</th>\n",
       "      <td>2515</td>\n",
       "      <td>2012-06-05</td>\n",
       "      <td>9987.563477</td>\n",
       "      <td>10000.0</td>\n",
       "      <td>497.512476</td>\n",
       "    </tr>\n",
       "    <tr>\n",
       "      <th>2516</th>\n",
       "      <td>2516</td>\n",
       "      <td>2012-06-04</td>\n",
       "      <td>10000.000000</td>\n",
       "      <td>10000.0</td>\n",
       "      <td>497.512476</td>\n",
       "    </tr>\n",
       "  </tbody>\n",
       "</table>\n",
       "</div>"
      ],
      "text/plain": [
       "      index       date  current_total_value  cum_cost  cum_quantity\n",
       "2512   2512 2012-06-08         10233.832031   10000.0    497.512476\n",
       "2513   2513 2012-06-07         10208.956055   10000.0    497.512476\n",
       "2514   2514 2012-06-06         10121.891602   10000.0    497.512476\n",
       "2515   2515 2012-06-05          9987.563477   10000.0    497.512476\n",
       "2516   2516 2012-06-04         10000.000000   10000.0    497.512476"
      ]
     },
     "execution_count": 3,
     "metadata": {},
     "output_type": "execute_result"
    }
   ],
   "source": [
    "lump = lump_buy(data,start,end,value=to_invest, fractional_stocks=fractional)\n",
    "lump.tail()"
   ]
  },
  {
   "cell_type": "code",
   "execution_count": 4,
   "metadata": {},
   "outputs": [
    {
     "data": {
      "text/html": [
       "<div>\n",
       "<style scoped>\n",
       "    .dataframe tbody tr th:only-of-type {\n",
       "        vertical-align: middle;\n",
       "    }\n",
       "\n",
       "    .dataframe tbody tr th {\n",
       "        vertical-align: top;\n",
       "    }\n",
       "\n",
       "    .dataframe thead th {\n",
       "        text-align: right;\n",
       "    }\n",
       "</style>\n",
       "<table border=\"1\" class=\"dataframe\">\n",
       "  <thead>\n",
       "    <tr style=\"text-align: right;\">\n",
       "      <th></th>\n",
       "      <th>date</th>\n",
       "      <th>cost</th>\n",
       "      <th>quantity</th>\n",
       "      <th>buy_cost</th>\n",
       "      <th>cum_quantity</th>\n",
       "      <th>cum_cost</th>\n",
       "      <th>current_total_value</th>\n",
       "    </tr>\n",
       "  </thead>\n",
       "  <tbody>\n",
       "    <tr>\n",
       "      <th>515</th>\n",
       "      <td>2022-05-03</td>\n",
       "      <td>158.815002</td>\n",
       "      <td>0.017251</td>\n",
       "      <td>2.739726</td>\n",
       "      <td>41.466998</td>\n",
       "      <td>1413.698630</td>\n",
       "      <td>6585.581336</td>\n",
       "    </tr>\n",
       "    <tr>\n",
       "      <th>516</th>\n",
       "      <td>2022-05-10</td>\n",
       "      <td>155.014999</td>\n",
       "      <td>0.017674</td>\n",
       "      <td>2.739726</td>\n",
       "      <td>41.484672</td>\n",
       "      <td>1416.438356</td>\n",
       "      <td>6430.746344</td>\n",
       "    </tr>\n",
       "    <tr>\n",
       "      <th>517</th>\n",
       "      <td>2022-05-17</td>\n",
       "      <td>149.050003</td>\n",
       "      <td>0.018381</td>\n",
       "      <td>2.739726</td>\n",
       "      <td>41.503053</td>\n",
       "      <td>1419.178082</td>\n",
       "      <td>6186.030156</td>\n",
       "    </tr>\n",
       "    <tr>\n",
       "      <th>518</th>\n",
       "      <td>2022-05-24</td>\n",
       "      <td>140.584991</td>\n",
       "      <td>0.019488</td>\n",
       "      <td>2.739726</td>\n",
       "      <td>41.522541</td>\n",
       "      <td>1421.917808</td>\n",
       "      <td>5837.446058</td>\n",
       "    </tr>\n",
       "    <tr>\n",
       "      <th>519</th>\n",
       "      <td>2022-06-02</td>\n",
       "      <td>149.169998</td>\n",
       "      <td>&lt;NA&gt;</td>\n",
       "      <td>&lt;NA&gt;</td>\n",
       "      <td>41.522541</td>\n",
       "      <td>1421.917808</td>\n",
       "      <td>6193.917350</td>\n",
       "    </tr>\n",
       "  </tbody>\n",
       "</table>\n",
       "</div>"
      ],
      "text/plain": [
       "          date        cost  quantity  buy_cost  cum_quantity     cum_cost  \\\n",
       "515 2022-05-03  158.815002  0.017251  2.739726     41.466998  1413.698630   \n",
       "516 2022-05-10  155.014999  0.017674  2.739726     41.484672  1416.438356   \n",
       "517 2022-05-17  149.050003  0.018381  2.739726     41.503053  1419.178082   \n",
       "518 2022-05-24  140.584991  0.019488  2.739726     41.522541  1421.917808   \n",
       "519 2022-06-02  149.169998      <NA>      <NA>     41.522541  1421.917808   \n",
       "\n",
       "     current_total_value  \n",
       "515          6585.581336  \n",
       "516          6430.746344  \n",
       "517          6186.030156  \n",
       "518          5837.446058  \n",
       "519          6193.917350  "
      ]
     },
     "execution_count": 4,
     "metadata": {},
     "output_type": "execute_result"
    }
   ],
   "source": [
    "ca = cost_average(data,start,end,frequency,value=to_invest/duration, fractional_stocks=fractional)\n",
    "ca.tail()"
   ]
  },
  {
   "cell_type": "code",
   "execution_count": 5,
   "metadata": {},
   "outputs": [
    {
     "data": {
      "text/plain": [
       "<matplotlib.legend.Legend at 0x7fcdd3c0fc10>"
      ]
     },
     "execution_count": 5,
     "metadata": {},
     "output_type": "execute_result"
    },
    {
     "data": {
      "image/png": "[encoded data removed]",
      "text/plain": [
       "<Figure size 432x288 with 2 Axes>"
      ]
     },
     "metadata": {
      "needs_background": "light"
     },
     "output_type": "display_data"
    }
   ],
   "source": [
    "# Plot stock price\n",
    "ax1 = sns.lineplot(x=data[\"date\"],y=data[\"close\"],color=\"black\")\n",
    "ax1.legend(labels=[\"stock_price\"])\n",
    "\n",
    "# Plot cost-avg and lump on second y-axis\n",
    "ax2 = plt.twinx()\n",
    "sns.lineplot(x=ca[\"date\"],y=ca[\"current_total_value\"],ax=ax2)\n",
    "# sns.lineplot(x=ca[\"date\"],y=ca[\"cum_cost\"],ax=ax)\n",
    "sns.lineplot(x=lump[\"date\"],y=lump[\"current_total_value\"],ax=ax2)\n",
    "\n",
    "\n",
    "ax2.legend(labels=[\"ca_value\",\"lump_value\"])"
   ]
  },
  {
   "cell_type": "code",
   "execution_count": null,
   "metadata": {},
   "outputs": [],
   "source": []
  }
 ],
 "metadata": {
  "interpreter": {
   "hash": "949777d72b0d2535278d3dc13498b2535136f6dfe0678499012e853ee9abcab1"
  },
  "kernelspec": {
   "display_name": "Python 3.10.4 64-bit",
   "language": "python",
   "name": "python3"
  },
  "language_info": {
   "codemirror_mode": {
    "name": "ipython",
    "version": 3
   },
   "file_extension": ".py",
   "mimetype": "text/x-python",
   "name": "python",
   "nbconvert_exporter": "python",
   "pygments_lexer": "ipython3",
   "version": "3.10.4"
  },
  "orig_nbformat": 4
 },
 "nbformat": 4,
 "nbformat_minor": 2
}
